{
  "nbformat": 4,
  "nbformat_minor": 0,
  "metadata": {
    "colab": {
      "name": "Descriptive_Stats.ipynb",
      "version": "0.3.2",
      "provenance": [],
      "include_colab_link": true
    },
    "kernelspec": {
      "name": "python3",
      "display_name": "Python 3"
    }
  },
  "cells": [
    {
      "cell_type": "markdown",
      "metadata": {
        "id": "view-in-github",
        "colab_type": "text"
      },
      "source": [
        "<a href=\"https://colab.research.google.com/github/alihammadbaig/ML/blob/master/Descriptive_Stats.ipynb\" target=\"_parent\"><img src=\"https://colab.research.google.com/assets/colab-badge.svg\" alt=\"Open In Colab\"/></a>"
      ]
    },
    {
      "cell_type": "markdown",
      "metadata": {
        "id": "y0T4tWG_hjGO",
        "colab_type": "text"
      },
      "source": [
        "# Descriptive Statistics For pandas Dataframe"
      ]
    },
    {
      "cell_type": "code",
      "metadata": {
        "id": "3Ky6QUV8hY8Y",
        "colab_type": "code",
        "colab": {}
      },
      "source": [
        "import pandas as pd"
      ],
      "execution_count": 0,
      "outputs": []
    },
    {
      "cell_type": "code",
      "metadata": {
        "id": "Op7KVPpJhpCl",
        "colab_type": "code",
        "colab": {
          "base_uri": "https://localhost:8080/",
          "height": 204
        },
        "outputId": "69a28735-2c0c-4b61-e675-a79a257558ce"
      },
      "source": [
        "data = {'name': ['Jason', 'Molly', 'Tina', 'Jake', 'Amy'], \n",
        "        'age': [42, 52, 36, 24, 73], \n",
        "        'preTestScore': [4, 24, 31, 2, 3],\n",
        "        'postTestScore': [25, 94, 57, 62, 70]}\n",
        "df = pd.DataFrame(data, columns = ['name', 'age', 'preTestScore', 'postTestScore'])\n",
        "df"
      ],
      "execution_count": 2,
      "outputs": [
        {
          "output_type": "execute_result",
          "data": {
            "text/html": [
              "<div>\n",
              "<style scoped>\n",
              "    .dataframe tbody tr th:only-of-type {\n",
              "        vertical-align: middle;\n",
              "    }\n",
              "\n",
              "    .dataframe tbody tr th {\n",
              "        vertical-align: top;\n",
              "    }\n",
              "\n",
              "    .dataframe thead th {\n",
              "        text-align: right;\n",
              "    }\n",
              "</style>\n",
              "<table border=\"1\" class=\"dataframe\">\n",
              "  <thead>\n",
              "    <tr style=\"text-align: right;\">\n",
              "      <th></th>\n",
              "      <th>name</th>\n",
              "      <th>age</th>\n",
              "      <th>preTestScore</th>\n",
              "      <th>postTestScore</th>\n",
              "    </tr>\n",
              "  </thead>\n",
              "  <tbody>\n",
              "    <tr>\n",
              "      <th>0</th>\n",
              "      <td>Jason</td>\n",
              "      <td>42</td>\n",
              "      <td>4</td>\n",
              "      <td>25</td>\n",
              "    </tr>\n",
              "    <tr>\n",
              "      <th>1</th>\n",
              "      <td>Molly</td>\n",
              "      <td>52</td>\n",
              "      <td>24</td>\n",
              "      <td>94</td>\n",
              "    </tr>\n",
              "    <tr>\n",
              "      <th>2</th>\n",
              "      <td>Tina</td>\n",
              "      <td>36</td>\n",
              "      <td>31</td>\n",
              "      <td>57</td>\n",
              "    </tr>\n",
              "    <tr>\n",
              "      <th>3</th>\n",
              "      <td>Jake</td>\n",
              "      <td>24</td>\n",
              "      <td>2</td>\n",
              "      <td>62</td>\n",
              "    </tr>\n",
              "    <tr>\n",
              "      <th>4</th>\n",
              "      <td>Amy</td>\n",
              "      <td>73</td>\n",
              "      <td>3</td>\n",
              "      <td>70</td>\n",
              "    </tr>\n",
              "  </tbody>\n",
              "</table>\n",
              "</div>"
            ],
            "text/plain": [
              "    name  age  preTestScore  postTestScore\n",
              "0  Jason   42             4             25\n",
              "1  Molly   52            24             94\n",
              "2   Tina   36            31             57\n",
              "3   Jake   24             2             62\n",
              "4    Amy   73             3             70"
            ]
          },
          "metadata": {
            "tags": []
          },
          "execution_count": 2
        }
      ]
    },
    {
      "cell_type": "markdown",
      "metadata": {
        "id": "mZz0gcAXhtNz",
        "colab_type": "text"
      },
      "source": [
        "Sum of all ages"
      ]
    },
    {
      "cell_type": "code",
      "metadata": {
        "id": "XNlG46aEhpST",
        "colab_type": "code",
        "colab": {
          "base_uri": "https://localhost:8080/",
          "height": 34
        },
        "outputId": "9e0973cc-0a69-4019-f3ce-0ea83749c57e"
      },
      "source": [
        "df['age'].sum()"
      ],
      "execution_count": 5,
      "outputs": [
        {
          "output_type": "execute_result",
          "data": {
            "text/plain": [
              "227"
            ]
          },
          "metadata": {
            "tags": []
          },
          "execution_count": 5
        }
      ]
    },
    {
      "cell_type": "code",
      "metadata": {
        "id": "0-zPEcpthw2z",
        "colab_type": "code",
        "colab": {
          "base_uri": "https://localhost:8080/",
          "height": 34
        },
        "outputId": "81fbd683-ae3a-4501-a3e8-0ce48b2e5d2b"
      },
      "source": [
        "df['preTestScore'].mean()"
      ],
      "execution_count": 6,
      "outputs": [
        {
          "output_type": "execute_result",
          "data": {
            "text/plain": [
              "12.8"
            ]
          },
          "metadata": {
            "tags": []
          },
          "execution_count": 6
        }
      ]
    },
    {
      "cell_type": "code",
      "metadata": {
        "id": "BT6cMCUIngq8",
        "colab_type": "code",
        "colab": {
          "base_uri": "https://localhost:8080/",
          "height": 119
        },
        "outputId": "ee2f5cc0-20e6-41a8-a9b6-19f72349e60a"
      },
      "source": [
        "df['preTestScore'].cumsum()"
      ],
      "execution_count": 7,
      "outputs": [
        {
          "output_type": "execute_result",
          "data": {
            "text/plain": [
              "0     4\n",
              "1    28\n",
              "2    59\n",
              "3    61\n",
              "4    64\n",
              "Name: preTestScore, dtype: int64"
            ]
          },
          "metadata": {
            "tags": []
          },
          "execution_count": 7
        }
      ]
    },
    {
      "cell_type": "code",
      "metadata": {
        "id": "S5aKyjR3nirc",
        "colab_type": "code",
        "colab": {
          "base_uri": "https://localhost:8080/",
          "height": 170
        },
        "outputId": "bbd28548-66a9-4f1f-a28f-3f61ebde8dfa"
      },
      "source": [
        "df['preTestScore'].describe()"
      ],
      "execution_count": 8,
      "outputs": [
        {
          "output_type": "execute_result",
          "data": {
            "text/plain": [
              "count     5.000000\n",
              "mean     12.800000\n",
              "std      13.663821\n",
              "min       2.000000\n",
              "25%       3.000000\n",
              "50%       4.000000\n",
              "75%      24.000000\n",
              "max      31.000000\n",
              "Name: preTestScore, dtype: float64"
            ]
          },
          "metadata": {
            "tags": []
          },
          "execution_count": 8
        }
      ]
    },
    {
      "cell_type": "markdown",
      "metadata": {
        "id": "VIYYToF6nuba",
        "colab_type": "text"
      },
      "source": [
        "**Sample variance of preTestScore **"
      ]
    },
    {
      "cell_type": "code",
      "metadata": {
        "id": "weU70UvynoyC",
        "colab_type": "code",
        "colab": {
          "base_uri": "https://localhost:8080/",
          "height": 34
        },
        "outputId": "542183b5-b848-4f4f-b32d-61ab36a58d61"
      },
      "source": [
        "df['preTestScore'].var()"
      ],
      "execution_count": 9,
      "outputs": [
        {
          "output_type": "execute_result",
          "data": {
            "text/plain": [
              "186.7"
            ]
          },
          "metadata": {
            "tags": []
          },
          "execution_count": 9
        }
      ]
    },
    {
      "cell_type": "markdown",
      "metadata": {
        "id": "DLOEPAlFnxT6",
        "colab_type": "text"
      },
      "source": [
        "**Sample standard deviation of preTestScore values**"
      ]
    },
    {
      "cell_type": "code",
      "metadata": {
        "id": "P0qkjdBGnrTS",
        "colab_type": "code",
        "colab": {
          "base_uri": "https://localhost:8080/",
          "height": 34
        },
        "outputId": "130182d6-5b9f-45e0-d667-26e6ad71d41f"
      },
      "source": [
        "df['preTestScore'].std()"
      ],
      "execution_count": 10,
      "outputs": [
        {
          "output_type": "execute_result",
          "data": {
            "text/plain": [
              "13.663820841916802"
            ]
          },
          "metadata": {
            "tags": []
          },
          "execution_count": 10
        }
      ]
    },
    {
      "cell_type": "markdown",
      "metadata": {
        "id": "Gh9IU1EMn6Dh",
        "colab_type": "text"
      },
      "source": [
        "**Skewness of preTestScore values**"
      ]
    },
    {
      "cell_type": "code",
      "metadata": {
        "id": "9bIOkOwJn2lQ",
        "colab_type": "code",
        "colab": {
          "base_uri": "https://localhost:8080/",
          "height": 34
        },
        "outputId": "a64ce1b5-4b8e-4404-cfaa-be5206f071c7"
      },
      "source": [
        "df['preTestScore'].skew()"
      ],
      "execution_count": 11,
      "outputs": [
        {
          "output_type": "execute_result",
          "data": {
            "text/plain": [
              "0.7433452457326751"
            ]
          },
          "metadata": {
            "tags": []
          },
          "execution_count": 11
        }
      ]
    },
    {
      "cell_type": "markdown",
      "metadata": {
        "id": "c1HEzHp1n-fl",
        "colab_type": "text"
      },
      "source": [
        "**Kurtosis of preTestScore values**"
      ]
    },
    {
      "cell_type": "code",
      "metadata": {
        "id": "aWcsjxBxn7oY",
        "colab_type": "code",
        "colab": {
          "base_uri": "https://localhost:8080/",
          "height": 34
        },
        "outputId": "65282471-4369-48a2-fdd0-5c1142f0eb47"
      },
      "source": [
        "\n",
        "df['preTestScore'].kurt()"
      ],
      "execution_count": 12,
      "outputs": [
        {
          "output_type": "execute_result",
          "data": {
            "text/plain": [
              "-2.4673543738411547"
            ]
          },
          "metadata": {
            "tags": []
          },
          "execution_count": 12
        }
      ]
    },
    {
      "cell_type": "markdown",
      "metadata": {
        "id": "CDuhffg1oC7m",
        "colab_type": "text"
      },
      "source": [
        "**Correlation Matrix Of Values**"
      ]
    },
    {
      "cell_type": "code",
      "metadata": {
        "id": "49f3L_fAn_mB",
        "colab_type": "code",
        "colab": {
          "base_uri": "https://localhost:8080/",
          "height": 142
        },
        "outputId": "316eb32b-a660-47e0-a575-e473ebb9ed31"
      },
      "source": [
        "df.corr()"
      ],
      "execution_count": 13,
      "outputs": [
        {
          "output_type": "execute_result",
          "data": {
            "text/html": [
              "<div>\n",
              "<style scoped>\n",
              "    .dataframe tbody tr th:only-of-type {\n",
              "        vertical-align: middle;\n",
              "    }\n",
              "\n",
              "    .dataframe tbody tr th {\n",
              "        vertical-align: top;\n",
              "    }\n",
              "\n",
              "    .dataframe thead th {\n",
              "        text-align: right;\n",
              "    }\n",
              "</style>\n",
              "<table border=\"1\" class=\"dataframe\">\n",
              "  <thead>\n",
              "    <tr style=\"text-align: right;\">\n",
              "      <th></th>\n",
              "      <th>age</th>\n",
              "      <th>preTestScore</th>\n",
              "      <th>postTestScore</th>\n",
              "    </tr>\n",
              "  </thead>\n",
              "  <tbody>\n",
              "    <tr>\n",
              "      <th>age</th>\n",
              "      <td>1.000000</td>\n",
              "      <td>-0.105651</td>\n",
              "      <td>0.328852</td>\n",
              "    </tr>\n",
              "    <tr>\n",
              "      <th>preTestScore</th>\n",
              "      <td>-0.105651</td>\n",
              "      <td>1.000000</td>\n",
              "      <td>0.378039</td>\n",
              "    </tr>\n",
              "    <tr>\n",
              "      <th>postTestScore</th>\n",
              "      <td>0.328852</td>\n",
              "      <td>0.378039</td>\n",
              "      <td>1.000000</td>\n",
              "    </tr>\n",
              "  </tbody>\n",
              "</table>\n",
              "</div>"
            ],
            "text/plain": [
              "                    age  preTestScore  postTestScore\n",
              "age            1.000000     -0.105651       0.328852\n",
              "preTestScore  -0.105651      1.000000       0.378039\n",
              "postTestScore  0.328852      0.378039       1.000000"
            ]
          },
          "metadata": {
            "tags": []
          },
          "execution_count": 13
        }
      ]
    },
    {
      "cell_type": "markdown",
      "metadata": {
        "id": "d1NS5gqFoGxW",
        "colab_type": "text"
      },
      "source": [
        "**Covariance Matrix Of Values**"
      ]
    },
    {
      "cell_type": "code",
      "metadata": {
        "id": "n3aRJP7coDzf",
        "colab_type": "code",
        "colab": {
          "base_uri": "https://localhost:8080/",
          "height": 142
        },
        "outputId": "6c2aa268-7caa-4b3c-92e4-d811b97b831e"
      },
      "source": [
        "df.cov()"
      ],
      "execution_count": 14,
      "outputs": [
        {
          "output_type": "execute_result",
          "data": {
            "text/html": [
              "<div>\n",
              "<style scoped>\n",
              "    .dataframe tbody tr th:only-of-type {\n",
              "        vertical-align: middle;\n",
              "    }\n",
              "\n",
              "    .dataframe tbody tr th {\n",
              "        vertical-align: top;\n",
              "    }\n",
              "\n",
              "    .dataframe thead th {\n",
              "        text-align: right;\n",
              "    }\n",
              "</style>\n",
              "<table border=\"1\" class=\"dataframe\">\n",
              "  <thead>\n",
              "    <tr style=\"text-align: right;\">\n",
              "      <th></th>\n",
              "      <th>age</th>\n",
              "      <th>preTestScore</th>\n",
              "      <th>postTestScore</th>\n",
              "    </tr>\n",
              "  </thead>\n",
              "  <tbody>\n",
              "    <tr>\n",
              "      <th>age</th>\n",
              "      <td>340.80</td>\n",
              "      <td>-26.65</td>\n",
              "      <td>151.20</td>\n",
              "    </tr>\n",
              "    <tr>\n",
              "      <th>preTestScore</th>\n",
              "      <td>-26.65</td>\n",
              "      <td>186.70</td>\n",
              "      <td>128.65</td>\n",
              "    </tr>\n",
              "    <tr>\n",
              "      <th>postTestScore</th>\n",
              "      <td>151.20</td>\n",
              "      <td>128.65</td>\n",
              "      <td>620.30</td>\n",
              "    </tr>\n",
              "  </tbody>\n",
              "</table>\n",
              "</div>"
            ],
            "text/plain": [
              "                  age  preTestScore  postTestScore\n",
              "age            340.80        -26.65         151.20\n",
              "preTestScore   -26.65        186.70         128.65\n",
              "postTestScore  151.20        128.65         620.30"
            ]
          },
          "metadata": {
            "tags": []
          },
          "execution_count": 14
        }
      ]
    },
    {
      "cell_type": "code",
      "metadata": {
        "id": "yDy0e1ThoH4H",
        "colab_type": "code",
        "colab": {}
      },
      "source": [
        ""
      ],
      "execution_count": 0,
      "outputs": []
    }
  ]
}