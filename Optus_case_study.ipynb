{
  "nbformat": 4,
  "nbformat_minor": 0,
  "metadata": {
    "colab": {
      "name": "Optus_case_study",
      "version": "0.3.2",
      "provenance": [],
      "toc_visible": true,
      "include_colab_link": true
    },
    "kernelspec": {
      "name": "python3",
      "display_name": "Python 3"
    },
    "accelerator": "GPU"
  },
  "cells": [
    {
      "cell_type": "markdown",
      "metadata": {
        "id": "view-in-github",
        "colab_type": "text"
      },
      "source": [
        "<a href=\"https://colab.research.google.com/github/alihammadbaig/ML/blob/master/Optus_case_study.ipynb\" target=\"_parent\"><img src=\"https://colab.research.google.com/assets/colab-badge.svg\" alt=\"Open In Colab\"/></a>"
      ]
    },
    {
      "metadata": {
        "id": "q-oUGnUZ1sM7",
        "colab_type": "text"
      },
      "cell_type": "markdown",
      "source": [
        "## Loading data"
      ]
    },
    {
      "metadata": {
        "id": "8itsY0GyO8ri",
        "colab_type": "code",
        "colab": {
          "base_uri": "https://localhost:8080/",
          "height": 121
        },
        "outputId": "fd1b0e5a-8cb2-41f9-c7bd-86edfe9ec974"
      },
      "cell_type": "code",
      "source": [
        "# Mounting my Google drive\n",
        "from google.colab import drive\n",
        "drive.mount('/content/gdrive')"
      ],
      "execution_count": 1,
      "outputs": [
        {
          "output_type": "stream",
          "text": [
            "Go to this URL in a browser: https://accounts.google.com/o/oauth2/auth?client_id=947318989803-6bn6qk8qdgf4n4g3pfee6491hc0brc4i.apps.googleusercontent.com&redirect_uri=urn%3Aietf%3Awg%3Aoauth%3A2.0%3Aoob&scope=email%20https%3A%2F%2Fwww.googleapis.com%2Fauth%2Fdocs.test%20https%3A%2F%2Fwww.googleapis.com%2Fauth%2Fdrive%20https%3A%2F%2Fwww.googleapis.com%2Fauth%2Fdrive.photos.readonly%20https%3A%2F%2Fwww.googleapis.com%2Fauth%2Fpeopleapi.readonly&response_type=code\n",
            "\n",
            "Enter your authorization code:\n",
            "··········\n",
            "Mounted at /content/gdrive\n"
          ],
          "name": "stdout"
        }
      ]
    },
    {
      "metadata": {
        "id": "0Z3D2YFZe9Nn",
        "colab_type": "code",
        "colab": {
          "base_uri": "https://localhost:8080/",
          "height": 34
        },
        "outputId": "289d681f-5c06-4385-b8db-9240aec9e3fe"
      },
      "cell_type": "code",
      "source": [
        "!ls \"/content/gdrive/My Drive/Colab Notebooks/data/optus_case_study/\""
      ],
      "execution_count": 9,
      "outputs": [
        {
          "output_type": "stream",
          "text": [
            "adhoc_Interview_Prep_Widgets_Analysis_10.csv\n"
          ],
          "name": "stdout"
        }
      ]
    },
    {
      "metadata": {
        "id": "uo0slOJmSvbz",
        "colab_type": "code",
        "colab": {}
      },
      "cell_type": "code",
      "source": [
        "# Importing the libraries\n",
        "import numpy as np\n",
        "import pandas as pd"
      ],
      "execution_count": 0,
      "outputs": []
    },
    {
      "metadata": {
        "id": "95YxObw61ORF",
        "colab_type": "text"
      },
      "cell_type": "markdown",
      "source": [
        "**Two ways to import data **\n",
        "\n",
        "\n",
        "1.   Mounting Google drive and then reading the files\n",
        "2.   Using PyDrive package as shown here # The othe way to access data from Google drive is by using PyDrive as \n",
        "https://colab.research.google.com/drive/1FK6INf-TvUIJgVjIicKjK5AS9e3D5pdh#scrollTo=mNZVG_19dEGO&line=6&uniqifier=1\n",
        "\n",
        "\n",
        "\n"
      ]
    },
    {
      "metadata": {
        "id": "JSDO6EZG3e5q",
        "colab_type": "code",
        "colab": {}
      },
      "cell_type": "code",
      "source": [
        "df = pd.read_csv(\"/content/gdrive/My Drive/Colab Notebooks/data/optus_case_study/adhoc_Interview_Prep_Widgets_Analysis_10.csv\")"
      ],
      "execution_count": 0,
      "outputs": []
    },
    {
      "metadata": {
        "colab_type": "code",
        "outputId": "918edb9b-bbcc-40ea-8608-8ec2a40719c4",
        "id": "mbjyvmbK3YLB",
        "colab": {
          "base_uri": "https://localhost:8080/",
          "height": 67
        }
      },
      "cell_type": "code",
      "source": [
        "# Code to read csv file into Colaboratory:\n",
        "!pip install -U -q PyDrive\n",
        "from pydrive.auth import GoogleAuth\n",
        "from pydrive.drive import GoogleDrive\n",
        "from google.colab import auth\n",
        "from oauth2client.client import GoogleCredentials\n",
        "# Authenticate and create the PyDrive client.\n",
        "auth.authenticate_user()\n",
        "gauth = GoogleAuth()\n",
        "gauth.credentials = GoogleCredentials.get_application_default()\n",
        "drive = GoogleDrive(gauth)\n",
        "\n",
        "link = 'https://drive.google.com/open?id=1mHqU3t-mcBdfvN7InT-UT2LKD4bBU-EY'\n",
        "fluff, id = link.split('=')\n",
        "print (id)\n",
        "\n",
        "downloaded = drive.CreateFile({'id':id}) \n",
        "downloaded.GetContentFile('optus_analysis.csv')  \n",
        "df3 = pd.read_csv('optus_analysis.csv')"
      ],
      "execution_count": 0,
      "outputs": [
        {
          "output_type": "stream",
          "text": [
            "\u001b[?25l\r\u001b[K    1% |▎                               | 10kB 15.5MB/s eta 0:00:01\r\u001b[K    2% |▋                               | 20kB 1.6MB/s eta 0:00:01\r\u001b[K    3% |█                               | 30kB 2.4MB/s eta 0:00:01\r\u001b[K    4% |█▎                              | 40kB 1.7MB/s eta 0:00:01\r\u001b[K    5% |█▋                              | 51kB 2.0MB/s eta 0:00:01\r\u001b[K    6% |██                              | 61kB 2.4MB/s eta 0:00:01\r\u001b[K    7% |██▎                             | 71kB 2.8MB/s eta 0:00:01\r\u001b[K    8% |██▋                             | 81kB 3.2MB/s eta 0:00:01\r\u001b[K    9% |███                             | 92kB 3.5MB/s eta 0:00:01\r\u001b[K    10% |███▎                            | 102kB 2.8MB/s eta 0:00:01\r\u001b[K    11% |███▋                            | 112kB 2.8MB/s eta 0:00:01\r\u001b[K    12% |████                            | 122kB 4.1MB/s eta 0:00:01\r\u001b[K    13% |████▎                           | 133kB 4.1MB/s eta 0:00:01\r\u001b[K    14% |████▋                           | 143kB 7.6MB/s eta 0:00:01\r\u001b[K    15% |█████                           | 153kB 7.7MB/s eta 0:00:01\r\u001b[K    16% |█████▎                          | 163kB 7.7MB/s eta 0:00:01\r\u001b[K    17% |█████▋                          | 174kB 7.7MB/s eta 0:00:01\r\u001b[K    18% |██████                          | 184kB 7.8MB/s eta 0:00:01\r\u001b[K    19% |██████▎                         | 194kB 7.8MB/s eta 0:00:01\r\u001b[K    20% |██████▋                         | 204kB 40.3MB/s eta 0:00:01\r\u001b[K    21% |███████                         | 215kB 8.4MB/s eta 0:00:01\r\u001b[K    22% |███████▎                        | 225kB 8.5MB/s eta 0:00:01\r\u001b[K    23% |███████▋                        | 235kB 8.5MB/s eta 0:00:01\r\u001b[K    24% |████████                        | 245kB 8.6MB/s eta 0:00:01\r\u001b[K    25% |████████▎                       | 256kB 8.6MB/s eta 0:00:01\r\u001b[K    26% |████████▋                       | 266kB 8.4MB/s eta 0:00:01\r\u001b[K    27% |█████████                       | 276kB 8.5MB/s eta 0:00:01\r\u001b[K    29% |█████████▎                      | 286kB 8.4MB/s eta 0:00:01\r\u001b[K    30% |█████████▋                      | 296kB 8.5MB/s eta 0:00:01\r\u001b[K    31% |██████████                      | 307kB 8.7MB/s eta 0:00:01\r\u001b[K    32% |██████████▎                     | 317kB 48.1MB/s eta 0:00:01\r\u001b[K    33% |██████████▋                     | 327kB 48.1MB/s eta 0:00:01\r\u001b[K    34% |███████████                     | 337kB 49.4MB/s eta 0:00:01\r\u001b[K    35% |███████████▎                    | 348kB 45.0MB/s eta 0:00:01\r\u001b[K    36% |███████████▋                    | 358kB 44.5MB/s eta 0:00:01\r\u001b[K    37% |████████████                    | 368kB 50.8MB/s eta 0:00:01\r\u001b[K    38% |████████████▎                   | 378kB 50.6MB/s eta 0:00:01\r\u001b[K    39% |████████████▋                   | 389kB 51.2MB/s eta 0:00:01\r\u001b[K    40% |█████████████                   | 399kB 51.3MB/s eta 0:00:01\r\u001b[K    41% |█████████████▎                  | 409kB 51.0MB/s eta 0:00:01\r\u001b[K    42% |█████████████▋                  | 419kB 48.8MB/s eta 0:00:01\r\u001b[K    43% |██████████████                  | 430kB 44.7MB/s eta 0:00:01\r\u001b[K    44% |██████████████▎                 | 440kB 43.1MB/s eta 0:00:01\r\u001b[K    45% |██████████████▋                 | 450kB 10.5MB/s eta 0:00:01\r\u001b[K    46% |███████████████                 | 460kB 10.4MB/s eta 0:00:01\r\u001b[K    47% |███████████████▎                | 471kB 10.3MB/s eta 0:00:01\r\u001b[K    48% |███████████████▋                | 481kB 10.3MB/s eta 0:00:01\r\u001b[K    49% |████████████████                | 491kB 10.2MB/s eta 0:00:01\r\u001b[K    50% |████████████████▎               | 501kB 10.2MB/s eta 0:00:01\r\u001b[K    51% |████████████████▋               | 512kB 10.0MB/s eta 0:00:01\r\u001b[K    52% |█████████████████               | 522kB 10.0MB/s eta 0:00:01\r\u001b[K    53% |█████████████████▎              | 532kB 10.2MB/s eta 0:00:01\r\u001b[K    54% |█████████████████▋              | 542kB 10.2MB/s eta 0:00:01\r\u001b[K    55% |██████████████████              | 552kB 42.3MB/s eta 0:00:01\r\u001b[K    57% |██████████████████▎             | 563kB 43.7MB/s eta 0:00:01\r\u001b[K    58% |██████████████████▋             | 573kB 44.2MB/s eta 0:00:01\r\u001b[K    59% |███████████████████             | 583kB 44.1MB/s eta 0:00:01\r\u001b[K    60% |███████████████████▎            | 593kB 44.7MB/s eta 0:00:01\r\u001b[K    61% |███████████████████▋            | 604kB 44.0MB/s eta 0:00:01\r\u001b[K    62% |████████████████████            | 614kB 47.7MB/s eta 0:00:01\r\u001b[K    63% |████████████████████▎           | 624kB 46.8MB/s eta 0:00:01\r\u001b[K    64% |████████████████████▋           | 634kB 47.6MB/s eta 0:00:01\r\u001b[K    65% |█████████████████████           | 645kB 10.3MB/s eta 0:00:01\r\u001b[K    66% |█████████████████████▎          | 655kB 10.2MB/s eta 0:00:01\r\u001b[K    67% |█████████████████████▋          | 665kB 9.7MB/s eta 0:00:01\r\u001b[K    68% |██████████████████████          | 675kB 9.7MB/s eta 0:00:01\r\u001b[K    69% |██████████████████████▎         | 686kB 9.7MB/s eta 0:00:01\r\u001b[K    70% |██████████████████████▋         | 696kB 9.7MB/s eta 0:00:01\r\u001b[K    71% |███████████████████████         | 706kB 9.7MB/s eta 0:00:01\r\u001b[K    72% |███████████████████████▎        | 716kB 9.7MB/s eta 0:00:01\r\u001b[K    73% |███████████████████████▋        | 727kB 9.7MB/s eta 0:00:01\r\u001b[K    74% |████████████████████████        | 737kB 9.7MB/s eta 0:00:01\r\u001b[K    75% |████████████████████████▎       | 747kB 37.6MB/s eta 0:00:01\r\u001b[K    76% |████████████████████████▋       | 757kB 38.9MB/s eta 0:00:01\r\u001b[K    77% |████████████████████████▉       | 768kB 47.6MB/s eta 0:00:01\r\u001b[K    78% |█████████████████████████▏      | 778kB 47.8MB/s eta 0:00:01\r\u001b[K    79% |█████████████████████████▌      | 788kB 47.5MB/s eta 0:00:01\r\u001b[K    80% |█████████████████████████▉      | 798kB 47.4MB/s eta 0:00:01\r\u001b[K    81% |██████████████████████████▏     | 808kB 48.1MB/s eta 0:00:01\r\u001b[K    82% |██████████████████████████▌     | 819kB 47.4MB/s eta 0:00:01\r\u001b[K    83% |██████████████████████████▉     | 829kB 48.1MB/s eta 0:00:01\r\u001b[K    85% |███████████████████████████▏    | 839kB 48.2MB/s eta 0:00:01\r\u001b[K    86% |███████████████████████████▌    | 849kB 47.6MB/s eta 0:00:01\r\u001b[K    87% |███████████████████████████▉    | 860kB 44.4MB/s eta 0:00:01\r\u001b[K    88% |████████████████████████████▏   | 870kB 44.6MB/s eta 0:00:01\r\u001b[K    89% |████████████████████████████▌   | 880kB 45.5MB/s eta 0:00:01\r\u001b[K    90% |████████████████████████████▉   | 890kB 45.2MB/s eta 0:00:01\r\u001b[K    91% |█████████████████████████████▏  | 901kB 44.9MB/s eta 0:00:01\r\u001b[K    92% |█████████████████████████████▌  | 911kB 44.8MB/s eta 0:00:01\r\u001b[K    93% |█████████████████████████████▉  | 921kB 44.9MB/s eta 0:00:01\r\u001b[K    94% |██████████████████████████████▏ | 931kB 44.0MB/s eta 0:00:01\r\u001b[K    95% |██████████████████████████████▌ | 942kB 43.9MB/s eta 0:00:01\r\u001b[K    96% |██████████████████████████████▉ | 952kB 43.8MB/s eta 0:00:01\r\u001b[K    97% |███████████████████████████████▏| 962kB 48.9MB/s eta 0:00:01\r\u001b[K    98% |███████████████████████████████▌| 972kB 49.1MB/s eta 0:00:01\r\u001b[K    99% |███████████████████████████████▉| 983kB 48.0MB/s eta 0:00:01\r\u001b[K    100% |████████████████████████████████| 993kB 18.8MB/s \n",
            "\u001b[?25h  Building wheel for PyDrive (setup.py) ... \u001b[?25ldone\n",
            "\u001b[?25h1mHqU3t-mcBdfvN7InT-UT2LKD4bBU-EY\n"
          ],
          "name": "stdout"
        }
      ]
    },
    {
      "metadata": {
        "id": "KR_23N-y2Aee",
        "colab_type": "text"
      },
      "cell_type": "markdown",
      "source": [
        "## Exploratory analysis and profiling"
      ]
    },
    {
      "metadata": {
        "id": "lvVFRs3zx1Ty",
        "colab_type": "code",
        "colab": {
          "base_uri": "https://localhost:8080/",
          "height": 284
        },
        "outputId": "290a6e21-74b3-4d00-af37-c5ef67b41f58"
      },
      "cell_type": "code",
      "source": [
        "pd.options.display.float_format = '{:10,.0f}'.format\n",
        "df.describe()"
      ],
      "execution_count": 12,
      "outputs": [
        {
          "output_type": "execute_result",
          "data": {
            "text/html": [
              "<div>\n",
              "<style scoped>\n",
              "    .dataframe tbody tr th:only-of-type {\n",
              "        vertical-align: middle;\n",
              "    }\n",
              "\n",
              "    .dataframe tbody tr th {\n",
              "        vertical-align: top;\n",
              "    }\n",
              "\n",
              "    .dataframe thead th {\n",
              "        text-align: right;\n",
              "    }\n",
              "</style>\n",
              "<table border=\"1\" class=\"dataframe\">\n",
              "  <thead>\n",
              "    <tr style=\"text-align: right;\">\n",
              "      <th></th>\n",
              "      <th>FullvisitorID</th>\n",
              "      <th>visitid</th>\n",
              "      <th>Bounces</th>\n",
              "      <th>Sessions</th>\n",
              "      <th>Pages_Viewed</th>\n",
              "      <th>Seconds_Spent</th>\n",
              "    </tr>\n",
              "  </thead>\n",
              "  <tbody>\n",
              "    <tr>\n",
              "      <th>count</th>\n",
              "      <td>591,370</td>\n",
              "      <td>591,370</td>\n",
              "      <td>88,828</td>\n",
              "      <td>591,370</td>\n",
              "      <td>575,272</td>\n",
              "      <td>459,887</td>\n",
              "    </tr>\n",
              "    <tr>\n",
              "      <th>mean</th>\n",
              "      <td>4,604,303,073,569,255,936</td>\n",
              "      <td>1,552,617,294</td>\n",
              "      <td>1</td>\n",
              "      <td>1</td>\n",
              "      <td>5</td>\n",
              "      <td>463</td>\n",
              "    </tr>\n",
              "    <tr>\n",
              "      <th>std</th>\n",
              "      <td>2,662,123,569,004,083,200</td>\n",
              "      <td>271,751</td>\n",
              "      <td>0</td>\n",
              "      <td>0</td>\n",
              "      <td>6</td>\n",
              "      <td>741</td>\n",
              "    </tr>\n",
              "    <tr>\n",
              "      <th>min</th>\n",
              "      <td>46,318,458,441,294</td>\n",
              "      <td>1,552,132,609</td>\n",
              "      <td>1</td>\n",
              "      <td>1</td>\n",
              "      <td>1</td>\n",
              "      <td>1</td>\n",
              "    </tr>\n",
              "    <tr>\n",
              "      <th>25%</th>\n",
              "      <td>2,296,636,107,343,413,504</td>\n",
              "      <td>1,552,380,436</td>\n",
              "      <td>1</td>\n",
              "      <td>1</td>\n",
              "      <td>1</td>\n",
              "      <td>55</td>\n",
              "    </tr>\n",
              "    <tr>\n",
              "      <th>50%</th>\n",
              "      <td>4,599,712,832,274,812,928</td>\n",
              "      <td>1,552,610,800</td>\n",
              "      <td>1</td>\n",
              "      <td>1</td>\n",
              "      <td>3</td>\n",
              "      <td>172</td>\n",
              "    </tr>\n",
              "    <tr>\n",
              "      <th>75%</th>\n",
              "      <td>6,907,440,740,499,332,096</td>\n",
              "      <td>1,552,866,166</td>\n",
              "      <td>1</td>\n",
              "      <td>1</td>\n",
              "      <td>6</td>\n",
              "      <td>538</td>\n",
              "    </tr>\n",
              "    <tr>\n",
              "      <th>max</th>\n",
              "      <td>9,223,351,748,974,115,840</td>\n",
              "      <td>1,553,086,797</td>\n",
              "      <td>1</td>\n",
              "      <td>1</td>\n",
              "      <td>335</td>\n",
              "      <td>51,003</td>\n",
              "    </tr>\n",
              "  </tbody>\n",
              "</table>\n",
              "</div>"
            ],
            "text/plain": [
              "                  FullvisitorID       visitid    Bounces   Sessions  \\\n",
              "count                   591,370       591,370     88,828    591,370   \n",
              "mean  4,604,303,073,569,255,936 1,552,617,294          1          1   \n",
              "std   2,662,123,569,004,083,200       271,751          0          0   \n",
              "min          46,318,458,441,294 1,552,132,609          1          1   \n",
              "25%   2,296,636,107,343,413,504 1,552,380,436          1          1   \n",
              "50%   4,599,712,832,274,812,928 1,552,610,800          1          1   \n",
              "75%   6,907,440,740,499,332,096 1,552,866,166          1          1   \n",
              "max   9,223,351,748,974,115,840 1,553,086,797          1          1   \n",
              "\n",
              "       Pages_Viewed  Seconds_Spent  \n",
              "count       575,272        459,887  \n",
              "mean              5            463  \n",
              "std               6            741  \n",
              "min               1              1  \n",
              "25%               1             55  \n",
              "50%               3            172  \n",
              "75%               6            538  \n",
              "max             335         51,003  "
            ]
          },
          "metadata": {
            "tags": []
          },
          "execution_count": 12
        }
      ]
    },
    {
      "metadata": {
        "id": "bK-eRl630jq3",
        "colab_type": "code",
        "colab": {
          "base_uri": "https://localhost:8080/",
          "height": 299
        },
        "outputId": "5898f24b-fd03-4967-ec51-eba65bb2a0f3"
      },
      "cell_type": "code",
      "source": [
        "df3.head()"
      ],
      "execution_count": 14,
      "outputs": [
        {
          "output_type": "execute_result",
          "data": {
            "text/html": [
              "<div>\n",
              "<style scoped>\n",
              "    .dataframe tbody tr th:only-of-type {\n",
              "        vertical-align: middle;\n",
              "    }\n",
              "\n",
              "    .dataframe tbody tr th {\n",
              "        vertical-align: top;\n",
              "    }\n",
              "\n",
              "    .dataframe thead th {\n",
              "        text-align: right;\n",
              "    }\n",
              "</style>\n",
              "<table border=\"1\" class=\"dataframe\">\n",
              "  <thead>\n",
              "    <tr style=\"text-align: right;\">\n",
              "      <th></th>\n",
              "      <th>FullvisitorID</th>\n",
              "      <th>visitid</th>\n",
              "      <th>Date_</th>\n",
              "      <th>Product_Category</th>\n",
              "      <th>Channel</th>\n",
              "      <th>Device</th>\n",
              "      <th>City</th>\n",
              "      <th>Bounces</th>\n",
              "      <th>Sessions</th>\n",
              "      <th>Pages_Viewed</th>\n",
              "      <th>Seconds_Spent</th>\n",
              "    </tr>\n",
              "  </thead>\n",
              "  <tbody>\n",
              "    <tr>\n",
              "      <th>0</th>\n",
              "      <td>2377446927407823845</td>\n",
              "      <td>1552178767</td>\n",
              "      <td>2019-03-10</td>\n",
              "      <td>Widgets</td>\n",
              "      <td>Organic Search</td>\n",
              "      <td>desktop</td>\n",
              "      <td>Sydney</td>\n",
              "      <td>nan</td>\n",
              "      <td>1</td>\n",
              "      <td>25</td>\n",
              "      <td>2,846</td>\n",
              "    </tr>\n",
              "    <tr>\n",
              "      <th>1</th>\n",
              "      <td>7191692962248895568</td>\n",
              "      <td>1552703550</td>\n",
              "      <td>2019-03-16</td>\n",
              "      <td>Widgets</td>\n",
              "      <td>Organic Search</td>\n",
              "      <td>desktop</td>\n",
              "      <td>Sydney</td>\n",
              "      <td>nan</td>\n",
              "      <td>1</td>\n",
              "      <td>42</td>\n",
              "      <td>9,516</td>\n",
              "    </tr>\n",
              "    <tr>\n",
              "      <th>2</th>\n",
              "      <td>4938426958397847793</td>\n",
              "      <td>1552169203</td>\n",
              "      <td>2019-03-10</td>\n",
              "      <td>Widgets</td>\n",
              "      <td>Organic Search</td>\n",
              "      <td>mobile</td>\n",
              "      <td>Melbourne</td>\n",
              "      <td>nan</td>\n",
              "      <td>1</td>\n",
              "      <td>21</td>\n",
              "      <td>1,904</td>\n",
              "    </tr>\n",
              "    <tr>\n",
              "      <th>3</th>\n",
              "      <td>8125317065871044486</td>\n",
              "      <td>1552289938</td>\n",
              "      <td>2019-03-11</td>\n",
              "      <td>Widgets</td>\n",
              "      <td>Organic Search</td>\n",
              "      <td>desktop</td>\n",
              "      <td>Melbourne</td>\n",
              "      <td>nan</td>\n",
              "      <td>1</td>\n",
              "      <td>25</td>\n",
              "      <td>2,743</td>\n",
              "    </tr>\n",
              "    <tr>\n",
              "      <th>4</th>\n",
              "      <td>7191692962248895568</td>\n",
              "      <td>1552269641</td>\n",
              "      <td>2019-03-11</td>\n",
              "      <td>Widgets</td>\n",
              "      <td>Direct to Site</td>\n",
              "      <td>desktop</td>\n",
              "      <td>Sydney</td>\n",
              "      <td>nan</td>\n",
              "      <td>1</td>\n",
              "      <td>31</td>\n",
              "      <td>3,270</td>\n",
              "    </tr>\n",
              "  </tbody>\n",
              "</table>\n",
              "</div>"
            ],
            "text/plain": [
              "         FullvisitorID     visitid       Date_ Product_Category  \\\n",
              "0  2377446927407823845  1552178767  2019-03-10          Widgets   \n",
              "1  7191692962248895568  1552703550  2019-03-16          Widgets   \n",
              "2  4938426958397847793  1552169203  2019-03-10          Widgets   \n",
              "3  8125317065871044486  1552289938  2019-03-11          Widgets   \n",
              "4  7191692962248895568  1552269641  2019-03-11          Widgets   \n",
              "\n",
              "          Channel   Device       City    Bounces  Sessions  Pages_Viewed  \\\n",
              "0  Organic Search  desktop     Sydney        nan         1            25   \n",
              "1  Organic Search  desktop     Sydney        nan         1            42   \n",
              "2  Organic Search   mobile  Melbourne        nan         1            21   \n",
              "3  Organic Search  desktop  Melbourne        nan         1            25   \n",
              "4  Direct to Site  desktop     Sydney        nan         1            31   \n",
              "\n",
              "   Seconds_Spent  \n",
              "0          2,846  \n",
              "1          9,516  \n",
              "2          1,904  \n",
              "3          2,743  \n",
              "4          3,270  "
            ]
          },
          "metadata": {
            "tags": []
          },
          "execution_count": 14
        }
      ]
    },
    {
      "metadata": {
        "id": "Gmd46PEwTueK",
        "colab_type": "code",
        "colab": {
          "base_uri": "https://localhost:8080/",
          "height": 34
        },
        "outputId": "74c375b9-e0f8-43a6-d952-0c4d0c9895df"
      },
      "cell_type": "code",
      "source": [
        "# rows and columns\n",
        "df.shape"
      ],
      "execution_count": 13,
      "outputs": [
        {
          "output_type": "execute_result",
          "data": {
            "text/plain": [
              "(591370, 11)"
            ]
          },
          "metadata": {
            "tags": []
          },
          "execution_count": 13
        }
      ]
    },
    {
      "metadata": {
        "id": "6o4XiVOMVSkW",
        "colab_type": "code",
        "colab": {
          "base_uri": "https://localhost:8080/",
          "height": 218
        },
        "outputId": "266bee94-11ad-4bc9-eae2-211cfa266690"
      },
      "cell_type": "code",
      "source": [
        "# data types\n",
        "df.dtypes"
      ],
      "execution_count": 16,
      "outputs": [
        {
          "output_type": "execute_result",
          "data": {
            "text/plain": [
              "FullvisitorID         int64\n",
              "visitid               int64\n",
              "Date_                object\n",
              "Product_Category     object\n",
              "Channel              object\n",
              "Device               object\n",
              "City                 object\n",
              "Bounces             float64\n",
              "Sessions              int64\n",
              "Pages_Viewed        float64\n",
              "Seconds_Spent       float64\n",
              "dtype: object"
            ]
          },
          "metadata": {
            "tags": []
          },
          "execution_count": 16
        }
      ]
    },
    {
      "metadata": {
        "id": "t3i2NSWpWA0K",
        "colab_type": "code",
        "colab": {
          "base_uri": "https://localhost:8080/",
          "height": 34
        },
        "outputId": "236acd5c-ad0c-4122-bf30-9a3cc592bafe"
      },
      "cell_type": "code",
      "source": [
        "# Unique visitors\n",
        "df.groupby('FullvisitorID')['FullvisitorID'].nunique().count()"
      ],
      "execution_count": 15,
      "outputs": [
        {
          "output_type": "execute_result",
          "data": {
            "text/plain": [
              "391706"
            ]
          },
          "metadata": {
            "tags": []
          },
          "execution_count": 15
        }
      ]
    },
    {
      "metadata": {
        "id": "-eAKHOf-cRaL",
        "colab_type": "code",
        "colab": {
          "base_uri": "https://localhost:8080/",
          "height": 34
        },
        "outputId": "eb62f7d8-1fef-4a53-fee1-ad3f9fcf8afc"
      },
      "cell_type": "code",
      "source": [
        "# Unique sessoins \n",
        "df.groupby('visitid')['visitid'].nunique().count()"
      ],
      "execution_count": 30,
      "outputs": [
        {
          "output_type": "execute_result",
          "data": {
            "text/plain": [
              "406766"
            ]
          },
          "metadata": {
            "tags": []
          },
          "execution_count": 30
        }
      ]
    },
    {
      "metadata": {
        "id": "aeYhCQK26GuJ",
        "colab_type": "code",
        "colab": {
          "base_uri": "https://localhost:8080/",
          "height": 34
        },
        "outputId": "0729bea4-6284-4240-9b5e-a70b2141d2a3"
      },
      "cell_type": "code",
      "source": [
        "# Total page views\n",
        "df['Pages_Viewed'].sum()"
      ],
      "execution_count": 18,
      "outputs": [
        {
          "output_type": "execute_result",
          "data": {
            "text/plain": [
              "2649106.0"
            ]
          },
          "metadata": {
            "tags": []
          },
          "execution_count": 18
        }
      ]
    },
    {
      "metadata": {
        "id": "KchDSUMLFyHY",
        "colab_type": "code",
        "colab": {
          "base_uri": "https://localhost:8080/",
          "height": 50
        },
        "outputId": "a550ba61-4405-4d03-d341-b780529eb061"
      },
      "cell_type": "code",
      "source": [
        "# Time spent\n",
        "print('Total time spent in seconds: {0}'.format(df['Seconds_Spent'].sum()))\n",
        "print('Total time spent in years: {0}'.format(df['Seconds_Spent'].sum()/3600/24/30/12))\n"
      ],
      "execution_count": 24,
      "outputs": [
        {
          "output_type": "stream",
          "text": [
            "Total time spent in seconds: 213099791.0\n",
            "Total time spent in years: 6.851202128343622\n"
          ],
          "name": "stdout"
        }
      ]
    },
    {
      "metadata": {
        "id": "SHc9RL9-R0MR",
        "colab_type": "code",
        "colab": {
          "base_uri": "https://localhost:8080/",
          "height": 319
        },
        "outputId": "bddcda5e-3d77-4915-daea-d3cffe43307a"
      },
      "cell_type": "code",
      "source": [
        "# Total views by channel\n",
        "\n",
        "df1 = df[['Channel', 'Pages_Viewed']].copy()\n",
        "print(df1.groupby('Channel')['Pages_Viewed'].count().sort_values(ascending=False))"
      ],
      "execution_count": 45,
      "outputs": [
        {
          "output_type": "stream",
          "text": [
            "Channel\n",
            "Organic Search                  191202\n",
            "Direct to Site                  105353\n",
            "Paid Search                      84478\n",
            "App Traffic                      59904\n",
            "Display                          36539\n",
            "Email                            26775\n",
            "Affiliates                       18176\n",
            "SMS/MMS                          15101\n",
            "Pre-Install Browser Redirect     12334\n",
            "External Referral                11116\n",
            "Paid Social                       7212\n",
            "Internal Optus Referral           4369\n",
            "Short URLs                        1287\n",
            "Organic Social                    1012\n",
            "(Other)                            363\n",
            "Video                               51\n",
            "Name: Pages_Viewed, dtype: int64\n"
          ],
          "name": "stdout"
        }
      ]
    },
    {
      "metadata": {
        "id": "Teqa-AIHRc3p",
        "colab_type": "code",
        "colab": {
          "base_uri": "https://localhost:8080/",
          "height": 795
        },
        "outputId": "8d35d4d5-3e73-4661-ca55-4997db8b778c"
      },
      "cell_type": "code",
      "source": [
        "# Total views by channel (Pecentages)\n",
        "\n",
        "page_view_by_channel = df.groupby(['Channel']).agg({'Pages_Viewed': 'count'})\n",
        "total_page_visits = df['Pages_Viewed'].count()\n",
        "page_view_by_channel = page_view_by_channel.div(total_page_visits, level='Channel') * 100\n",
        "print(page_view_by_channel.Pages_Viewed.sort_values(ascending=False))\n",
        "\n",
        "# Show as  plot\n",
        "page_view_by_channel.Pages_Viewed.sort_values(ascending=False).plot(kind='bar')"
      ],
      "execution_count": 53,
      "outputs": [
        {
          "output_type": "stream",
          "text": [
            "Channel\n",
            "Organic Search                  33.236799\n",
            "Direct to Site                  18.313598\n",
            "Paid Search                     14.684880\n",
            "App Traffic                     10.413161\n",
            "Display                          6.351604\n",
            "Email                            4.654320\n",
            "Affiliates                       3.159549\n",
            "SMS/MMS                          2.625019\n",
            "Pre-Install Browser Redirect     2.144029\n",
            "External Referral                1.932303\n",
            "Paid Social                      1.253668\n",
            "Internal Optus Referral          0.759467\n",
            "Short URLs                       0.223720\n",
            "Organic Social                   0.175917\n",
            "(Other)                          0.063101\n",
            "Video                            0.008865\n",
            "Name: Pages_Viewed, dtype: float64\n"
          ],
          "name": "stdout"
        },
        {
          "output_type": "execute_result",
          "data": {
            "text/plain": [
              "<matplotlib.axes._subplots.AxesSubplot at 0x7fa47fc72b00>"
            ]
          },
          "metadata": {
            "tags": []
          },
          "execution_count": 53
        },
        {
          "output_type": "display_data",
          "data": {
            "image/png": "[encoded data removed]",
            "text/plain": [
              "<Figure size 576x396 with 1 Axes>"
            ]
          },
          "metadata": {
            "tags": []
          }
        }
      ]
    },
    {
      "metadata": {
        "id": "aPMe8XZWSVUi",
        "colab_type": "code",
        "colab": {
          "base_uri": "https://localhost:8080/",
          "height": 688
        },
        "outputId": "2ad8e0a1-64ea-49de-e68d-665967d70cd8"
      },
      "cell_type": "code",
      "source": [
        "# Total views by device\n",
        "\n",
        "df2 = df[['Device', 'Pages_Viewed']].copy()\n",
        "\n",
        "# By count\n",
        "pv_by_device = df2.groupby('Device')['Pages_Viewed'].count().sort_values(ascending=False)\n",
        "print(\"Number of page views by device\")\n",
        "print(pv_by_device)\n",
        "\n",
        "# By Percentage\n",
        "page_view_by_device = df2.groupby(['Device']).agg({'Pages_Viewed': 'count'})\n",
        "total_page_visits = df['Pages_Viewed'].count()\n",
        "page_view_by_device = page_view_by_device.div(total_page_visits, level='Channel') * 100\n",
        "print(\"\\n\\nPercentage of page views by device\")\n",
        "print(page_view_by_device.Pages_Viewed.sort_values(ascending=False))\n",
        "\n",
        "# Show in plot\n",
        "print(\"\\nShow in plot\\n\")\n",
        "pv_by_device.plot(kind='bar')"
      ],
      "execution_count": 59,
      "outputs": [
        {
          "output_type": "stream",
          "text": [
            "Number of page views by device\n",
            "Device\n",
            "mobile     359895\n",
            "desktop    186562\n",
            "tablet      28815\n",
            "Name: Pages_Viewed, dtype: int64\n",
            "\n",
            "\n",
            "Percentage of page views by device\n",
            "Device\n",
            "mobile     62.560841\n",
            "desktop    32.430224\n",
            "tablet      5.008935\n",
            "Name: Pages_Viewed, dtype: float64\n",
            "\n",
            "Show in plot\n",
            "\n"
          ],
          "name": "stdout"
        },
        {
          "output_type": "execute_result",
          "data": {
            "text/plain": [
              "<matplotlib.axes._subplots.AxesSubplot at 0x7fa477aa5780>"
            ]
          },
          "metadata": {
            "tags": []
          },
          "execution_count": 59
        },
        {
          "output_type": "display_data",
          "data": {
            "image/png": "[encoded data removed]",
            "text/plain": [
              "<Figure size 576x396 with 1 Axes>"
            ]
          },
          "metadata": {
            "tags": []
          }
        }
      ]
    },
    {
      "metadata": {
        "id": "ux4chVEbeVqn",
        "colab_type": "text"
      },
      "cell_type": "markdown",
      "source": [
        "### \"visitid\"  and  \"FullvisitorID\" uniquely identifies a session"
      ]
    },
    {
      "metadata": {
        "id": "FjG3xrJwePJF",
        "colab_type": "code",
        "colab": {
          "base_uri": "https://localhost:8080/",
          "height": 67
        },
        "outputId": "e2fa665b-591d-4e7d-bce4-6b50fd319d83"
      },
      "cell_type": "code",
      "source": [
        "df.groupby(['FullvisitorID', 'visitid'])['visitid', 'FullvisitorID'].nunique().count()"
      ],
      "execution_count": 36,
      "outputs": [
        {
          "output_type": "execute_result",
          "data": {
            "text/plain": [
              "visitid          590592\n",
              "FullvisitorID    590592\n",
              "dtype: int64"
            ]
          },
          "metadata": {
            "tags": []
          },
          "execution_count": 36
        }
      ]
    },
    {
      "metadata": {
        "id": "OyaV_ubzfCTd",
        "colab_type": "code",
        "colab": {
          "base_uri": "https://localhost:8080/",
          "height": 602
        },
        "outputId": "76702019-7bd2-4f2a-f642-ffefb6e7989e"
      },
      "cell_type": "code",
      "source": [
        "1552195580\n",
        "filter1 = df['visitid'] == 1552195580\n",
        "df1 = df.groupby(['FullvisitorID', 'visitid']).nunique()\n",
        "df1.where(filter1).head()"
      ],
      "execution_count": 41,
      "outputs": [
        {
          "output_type": "stream",
          "text": [
            "/usr/local/lib/python3.6/dist-packages/ipykernel_launcher.py:4: UserWarning: Boolean Series key will be reindexed to match DataFrame index.\n",
            "  after removing the cwd from sys.path.\n"
          ],
          "name": "stderr"
        },
        {
          "output_type": "error",
          "ename": "IndexingError",
          "evalue": "ignored",
          "traceback": [
            "\u001b[0;31m---------------------------------------------------------------------------\u001b[0m",
            "\u001b[0;31mIndexingError\u001b[0m                             Traceback (most recent call last)",
            "\u001b[0;32m<ipython-input-41-f0c5ce7accb6>\u001b[0m in \u001b[0;36m<module>\u001b[0;34m()\u001b[0m\n\u001b[1;32m      2\u001b[0m \u001b[0mfilter1\u001b[0m \u001b[0;34m=\u001b[0m \u001b[0mdf\u001b[0m\u001b[0;34m[\u001b[0m\u001b[0;34m'visitid'\u001b[0m\u001b[0;34m]\u001b[0m \u001b[0;34m==\u001b[0m \u001b[0;36m1552195580\u001b[0m\u001b[0;34m\u001b[0m\u001b[0;34m\u001b[0m\u001b[0m\n\u001b[1;32m      3\u001b[0m \u001b[0mdf1\u001b[0m \u001b[0;34m=\u001b[0m \u001b[0mdf\u001b[0m\u001b[0;34m.\u001b[0m\u001b[0mgroupby\u001b[0m\u001b[0;34m(\u001b[0m\u001b[0;34m[\u001b[0m\u001b[0;34m'FullvisitorID'\u001b[0m\u001b[0;34m,\u001b[0m \u001b[0;34m'visitid'\u001b[0m\u001b[0;34m]\u001b[0m\u001b[0;34m)\u001b[0m\u001b[0;34m.\u001b[0m\u001b[0mnunique\u001b[0m\u001b[0;34m(\u001b[0m\u001b[0;34m)\u001b[0m\u001b[0;34m\u001b[0m\u001b[0;34m\u001b[0m\u001b[0m\n\u001b[0;32m----> 4\u001b[0;31m \u001b[0mdf1\u001b[0m\u001b[0;34m[\u001b[0m\u001b[0mfilter1\u001b[0m\u001b[0;34m]\u001b[0m\u001b[0;34m.\u001b[0m\u001b[0mhead\u001b[0m\u001b[0;34m(\u001b[0m\u001b[0;34m)\u001b[0m\u001b[0;34m\u001b[0m\u001b[0;34m\u001b[0m\u001b[0m\n\u001b[0m",
            "\u001b[0;32m/usr/local/lib/python3.6/dist-packages/pandas/core/frame.py\u001b[0m in \u001b[0;36m__getitem__\u001b[0;34m(self, key)\u001b[0m\n\u001b[1;32m   2131\u001b[0m         \u001b[0;32mif\u001b[0m \u001b[0misinstance\u001b[0m\u001b[0;34m(\u001b[0m\u001b[0mkey\u001b[0m\u001b[0;34m,\u001b[0m \u001b[0;34m(\u001b[0m\u001b[0mSeries\u001b[0m\u001b[0;34m,\u001b[0m \u001b[0mnp\u001b[0m\u001b[0;34m.\u001b[0m\u001b[0mndarray\u001b[0m\u001b[0;34m,\u001b[0m \u001b[0mIndex\u001b[0m\u001b[0;34m,\u001b[0m \u001b[0mlist\u001b[0m\u001b[0;34m)\u001b[0m\u001b[0;34m)\u001b[0m\u001b[0;34m:\u001b[0m\u001b[0;34m\u001b[0m\u001b[0;34m\u001b[0m\u001b[0m\n\u001b[1;32m   2132\u001b[0m             \u001b[0;31m# either boolean or fancy integer index\u001b[0m\u001b[0;34m\u001b[0m\u001b[0;34m\u001b[0m\u001b[0;34m\u001b[0m\u001b[0m\n\u001b[0;32m-> 2133\u001b[0;31m             \u001b[0;32mreturn\u001b[0m \u001b[0mself\u001b[0m\u001b[0;34m.\u001b[0m\u001b[0m_getitem_array\u001b[0m\u001b[0;34m(\u001b[0m\u001b[0mkey\u001b[0m\u001b[0;34m)\u001b[0m\u001b[0;34m\u001b[0m\u001b[0;34m\u001b[0m\u001b[0m\n\u001b[0m\u001b[1;32m   2134\u001b[0m         \u001b[0;32melif\u001b[0m \u001b[0misinstance\u001b[0m\u001b[0;34m(\u001b[0m\u001b[0mkey\u001b[0m\u001b[0;34m,\u001b[0m \u001b[0mDataFrame\u001b[0m\u001b[0;34m)\u001b[0m\u001b[0;34m:\u001b[0m\u001b[0;34m\u001b[0m\u001b[0;34m\u001b[0m\u001b[0m\n\u001b[1;32m   2135\u001b[0m             \u001b[0;32mreturn\u001b[0m \u001b[0mself\u001b[0m\u001b[0;34m.\u001b[0m\u001b[0m_getitem_frame\u001b[0m\u001b[0;34m(\u001b[0m\u001b[0mkey\u001b[0m\u001b[0;34m)\u001b[0m\u001b[0;34m\u001b[0m\u001b[0;34m\u001b[0m\u001b[0m\n",
            "\u001b[0;32m/usr/local/lib/python3.6/dist-packages/pandas/core/frame.py\u001b[0m in \u001b[0;36m_getitem_array\u001b[0;34m(self, key)\u001b[0m\n\u001b[1;32m   2171\u001b[0m             \u001b[0;31m# check_bool_indexer will throw exception if Series key cannot\u001b[0m\u001b[0;34m\u001b[0m\u001b[0;34m\u001b[0m\u001b[0;34m\u001b[0m\u001b[0m\n\u001b[1;32m   2172\u001b[0m             \u001b[0;31m# be reindexed to match DataFrame rows\u001b[0m\u001b[0;34m\u001b[0m\u001b[0;34m\u001b[0m\u001b[0;34m\u001b[0m\u001b[0m\n\u001b[0;32m-> 2173\u001b[0;31m             \u001b[0mkey\u001b[0m \u001b[0;34m=\u001b[0m \u001b[0mcheck_bool_indexer\u001b[0m\u001b[0;34m(\u001b[0m\u001b[0mself\u001b[0m\u001b[0;34m.\u001b[0m\u001b[0mindex\u001b[0m\u001b[0;34m,\u001b[0m \u001b[0mkey\u001b[0m\u001b[0;34m)\u001b[0m\u001b[0;34m\u001b[0m\u001b[0;34m\u001b[0m\u001b[0m\n\u001b[0m\u001b[1;32m   2174\u001b[0m             \u001b[0mindexer\u001b[0m \u001b[0;34m=\u001b[0m \u001b[0mkey\u001b[0m\u001b[0;34m.\u001b[0m\u001b[0mnonzero\u001b[0m\u001b[0;34m(\u001b[0m\u001b[0;34m)\u001b[0m\u001b[0;34m[\u001b[0m\u001b[0;36m0\u001b[0m\u001b[0;34m]\u001b[0m\u001b[0;34m\u001b[0m\u001b[0;34m\u001b[0m\u001b[0m\n\u001b[1;32m   2175\u001b[0m             \u001b[0;32mreturn\u001b[0m \u001b[0mself\u001b[0m\u001b[0;34m.\u001b[0m\u001b[0m_take\u001b[0m\u001b[0;34m(\u001b[0m\u001b[0mindexer\u001b[0m\u001b[0;34m,\u001b[0m \u001b[0maxis\u001b[0m\u001b[0;34m=\u001b[0m\u001b[0;36m0\u001b[0m\u001b[0;34m,\u001b[0m \u001b[0mconvert\u001b[0m\u001b[0;34m=\u001b[0m\u001b[0;32mFalse\u001b[0m\u001b[0;34m)\u001b[0m\u001b[0;34m\u001b[0m\u001b[0;34m\u001b[0m\u001b[0m\n",
            "\u001b[0;32m/usr/local/lib/python3.6/dist-packages/pandas/core/indexing.py\u001b[0m in \u001b[0;36mcheck_bool_indexer\u001b[0;34m(ax, key)\u001b[0m\n\u001b[1;32m   2021\u001b[0m         \u001b[0mmask\u001b[0m \u001b[0;34m=\u001b[0m \u001b[0misna\u001b[0m\u001b[0;34m(\u001b[0m\u001b[0mresult\u001b[0m\u001b[0;34m.\u001b[0m\u001b[0m_values\u001b[0m\u001b[0;34m)\u001b[0m\u001b[0;34m\u001b[0m\u001b[0;34m\u001b[0m\u001b[0m\n\u001b[1;32m   2022\u001b[0m         \u001b[0;32mif\u001b[0m \u001b[0mmask\u001b[0m\u001b[0;34m.\u001b[0m\u001b[0many\u001b[0m\u001b[0;34m(\u001b[0m\u001b[0;34m)\u001b[0m\u001b[0;34m:\u001b[0m\u001b[0;34m\u001b[0m\u001b[0;34m\u001b[0m\u001b[0m\n\u001b[0;32m-> 2023\u001b[0;31m             raise IndexingError('Unalignable boolean Series provided as '\n\u001b[0m\u001b[1;32m   2024\u001b[0m                                 \u001b[0;34m'indexer (index of the boolean Series and of '\u001b[0m\u001b[0;34m\u001b[0m\u001b[0;34m\u001b[0m\u001b[0m\n\u001b[1;32m   2025\u001b[0m                                 'the indexed object do not match')\n",
            "\u001b[0;31mIndexingError\u001b[0m: Unalignable boolean Series provided as indexer (index of the boolean Series and of the indexed object do not match"
          ]
        }
      ]
    },
    {
      "metadata": {
        "id": "mhYWKL67kLOo",
        "colab_type": "text"
      },
      "cell_type": "markdown",
      "source": [
        "## Top entry channels"
      ]
    },
    {
      "metadata": {
        "id": "Ts9r5s0miYtj",
        "colab_type": "code",
        "colab": {
          "base_uri": "https://localhost:8080/",
          "height": 478
        },
        "outputId": "1f5ec798-1977-4d1c-cae6-7e7d618941ba"
      },
      "cell_type": "code",
      "source": [
        "df['Channel'].value_counts().plot(kind='bar')"
      ],
      "execution_count": 57,
      "outputs": [
        {
          "output_type": "execute_result",
          "data": {
            "text/plain": [
              "<matplotlib.axes._subplots.AxesSubplot at 0x7ff0ec150128>"
            ]
          },
          "metadata": {
            "tags": []
          },
          "execution_count": 57
        },
        {
          "output_type": "display_data",
          "data": {
            "image/png": "[encoded data removed]",
            "text/plain": [
              "<Figure size 576x396 with 1 Axes>"
            ]
          },
          "metadata": {
            "tags": []
          }
        }
      ]
    },
    {
      "metadata": {
        "id": "As4G084xlfV7",
        "colab_type": "code",
        "colab": {
          "base_uri": "https://localhost:8080/",
          "height": 34
        },
        "outputId": "c6458e71-67d7-4bbf-bafe-d4ed4bdc5a8e"
      },
      "cell_type": "code",
      "source": [
        "from google.colab import auth\n",
        "auth.authenticate_user()\n",
        "print('Authenticated')"
      ],
      "execution_count": 58,
      "outputs": [
        {
          "output_type": "stream",
          "text": [
            "Authenticated\n"
          ],
          "name": "stdout"
        }
      ]
    },
    {
      "metadata": {
        "id": "HcbqomVFpAhM",
        "colab_type": "code",
        "colab": {}
      },
      "cell_type": "code",
      "source": [
        ""
      ],
      "execution_count": 0,
      "outputs": []
    }
  ]
}